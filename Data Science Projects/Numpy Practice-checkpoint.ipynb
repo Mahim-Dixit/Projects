{
 "cells": [
  {
   "cell_type": "markdown",
   "id": "eabf1546-2b52-42af-ab46-fa6f8ecc1d7c",
   "metadata": {},
   "source": [
    "# Numpy Practice \n",
    "In this notebook we will perform operations on numpy ndarray .\n",
    "This practice session is based on Python for Data Analystic book which covers some basic numpy commands \n",
    "In this notebook we will demonstrate our skill for the following outline :\n",
    "1. Creating Numpy ndarray\n",
    "2. Manipulating Numpy ndarray\n",
    "3. Using numpy  package modules\n",
    "   "
   ]
  },
  {
   "cell_type": "markdown",
   "id": "4ef5216b-5218-4876-83f8-2bb2b6b396cf",
   "metadata": {},
   "source": [
    "For markdown syntax wIe have used the  [guide](https://www.markdownguide.org/basic-syntax/) . \n",
    "For reference I have used the book and official [docs](https://numpy.org/doc/stable/) ."
   ]
  },
  {
   "cell_type": "markdown",
   "id": "1267bd1f-8671-4d9e-b7af-580c57beb3f4",
   "metadata": {},
   "source": [
    "![Numpy](numpypng.png)"
   ]
  },
  {
   "cell_type": "markdown",
   "id": "15dbaac9-ea00-44af-b41e-0e024572eea5",
   "metadata": {},
   "source": [
    "# Creating Numpy ndarray"
   ]
  },
  {
   "cell_type": "code",
   "execution_count": 10,
   "id": "995f3814-69f1-4ca4-ab6d-62185d3c04b2",
   "metadata": {},
   "outputs": [],
   "source": [
    "# importing numpy module\n",
    "import numpy as np\n",
    "\n"
   ]
  },
  {
   "cell_type": "markdown",
   "id": "0055c2df-cce6-49c9-a933-e19b8ed28049",
   "metadata": {},
   "source": [
    "## Creating numpy ndarray from python objects\n",
    "1. list\n",
    "2. tuple\n",
    "3. dictionary"
   ]
  },
  {
   "cell_type": "code",
   "execution_count": 14,
   "id": "ba4ae861-edd2-4d9e-92b1-c8801bc2cf43",
   "metadata": {},
   "outputs": [
    {
     "data": {
      "text/plain": [
       "array([1, 2, 3, 4, 5, 6])"
      ]
     },
     "execution_count": 14,
     "metadata": {},
     "output_type": "execute_result"
    }
   ],
   "source": [
    "# List\n",
    "l1=[1,2,3,4,5,6]\n",
    "ar=np.array(l1)\n",
    "ar"
   ]
  },
  {
   "cell_type": "code",
   "execution_count": 16,
   "id": "f46e1db5-e4c9-4666-b22d-ebfefbfeeab9",
   "metadata": {},
   "outputs": [
    {
     "data": {
      "text/plain": [
       "array([[1, 2, 3],\n",
       "       [4, 5, 6],\n",
       "       [7, 8, 9]])"
      ]
     },
     "execution_count": 16,
     "metadata": {},
     "output_type": "execute_result"
    }
   ],
   "source": [
    "l2=[[1,2,3],[4,5,6,],[7,8,9]]\n",
    "ar=np.array(l2)\n",
    "ar"
   ]
  },
  {
   "cell_type": "code",
   "execution_count": 20,
   "id": "966a9856-5113-4de4-a1fe-958051faa670",
   "metadata": {},
   "outputs": [
    {
     "data": {
      "text/plain": [
       "array([1, 2, 3, 4, 5, 6])"
      ]
     },
     "execution_count": 20,
     "metadata": {},
     "output_type": "execute_result"
    }
   ],
   "source": [
    "# tuple\n",
    "t1=(1,2,3,4,5,6)\n",
    "ar=np.array(t1)\n",
    "ar"
   ]
  },
  {
   "cell_type": "code",
   "execution_count": 22,
   "id": "8b28473d-5b4e-4695-a992-1dce7d4811e8",
   "metadata": {},
   "outputs": [
    {
     "data": {
      "text/plain": [
       "array([[1, 2, 3],\n",
       "       [4, 5, 6]])"
      ]
     },
     "execution_count": 22,
     "metadata": {},
     "output_type": "execute_result"
    }
   ],
   "source": [
    "t2=((1,2,3),(4,5,6))\n",
    "ar=np.array(t2)\n",
    "ar"
   ]
  },
  {
   "cell_type": "code",
   "execution_count": 24,
   "id": "8ebc63b4-f956-4dbd-ab31-b4775b9fb866",
   "metadata": {},
   "outputs": [
    {
     "data": {
      "text/plain": [
       "array({1: 'Hello', 2: 'Hi', 3: 'H'}, dtype=object)"
      ]
     },
     "execution_count": 24,
     "metadata": {},
     "output_type": "execute_result"
    }
   ],
   "source": [
    "# dict\n",
    "d1={1:\"Hello\",2:\"Hi\",3:\"H\"}\n",
    "ar=np.array(d1)\n",
    "ar"
   ]
  },
  {
   "cell_type": "markdown",
   "id": "505b7876-b400-444a-a542-8b6e40867d17",
   "metadata": {},
   "source": [
    "### So we can create array based on the python objects now  lets shift our focus to pandas series and dataframe"
   ]
  },
  {
   "cell_type": "code",
   "execution_count": 27,
   "id": "ba8d985a-15b2-4a1a-9441-08308ab3a048",
   "metadata": {},
   "outputs": [],
   "source": [
    "# importing pandas\n",
    "import pandas as pd\n"
   ]
  },
  {
   "cell_type": "markdown",
   "id": "2f84d25e-ebcc-4060-8c37-636ae6e5dd6c",
   "metadata": {},
   "source": [
    "### Creating ndarray through pandas series \n"
   ]
  },
  {
   "cell_type": "code",
   "execution_count": 32,
   "id": "ab1a9f8f-4089-4fca-817b-d1fc3ed374a0",
   "metadata": {},
   "outputs": [
    {
     "data": {
      "text/plain": [
       "array([1, 2, 3, 4, 5, 6], dtype=int64)"
      ]
     },
     "execution_count": 32,
     "metadata": {},
     "output_type": "execute_result"
    }
   ],
   "source": [
    "# I have created a series from list then through that list I have created np array\n",
    "series=pd.Series([1,2,3,4,5,6])\n",
    "ar=np.array(series)\n",
    "ar"
   ]
  },
  {
   "cell_type": "markdown",
   "id": "95f50438-e539-47ba-aab2-ae04bd36f38d",
   "metadata": {},
   "source": [
    "### Creating ndarray through pandas Dataframe \n"
   ]
  },
  {
   "cell_type": "code",
   "execution_count": 37,
   "id": "b5235a83-859e-4475-be16-45af6a61ed00",
   "metadata": {},
   "outputs": [
    {
     "name": "stdout",
     "output_type": "stream",
     "text": [
      "   1  2  3\n",
      "0  1  4  7\n",
      "1  2  5  8\n",
      "2  3  6  9\n"
     ]
    },
    {
     "data": {
      "text/plain": [
       "array([[1, 4, 7],\n",
       "       [2, 5, 8],\n",
       "       [3, 6, 9]], dtype=int64)"
      ]
     },
     "execution_count": 37,
     "metadata": {},
     "output_type": "execute_result"
    }
   ],
   "source": [
    "#I have created a dataframe from the previously created list smartly through the use of zip function then through dataframe\n",
    "# I have created a numpy array.\n",
    "\n",
    "df=pd.DataFrame(dict(zip(l1,l2)))\n",
    "print(df)\n",
    "ar=np.array(df)\n",
    "ar"
   ]
  },
  {
   "cell_type": "markdown",
   "id": "9e4e434f-c0c1-4ca7-b538-132de7a18244",
   "metadata": {},
   "source": [
    "### So we can create ndarray from pandas dataframe and Series now we will focus on methods like `np.ones` and `np.zeros`"
   ]
  },
  {
   "cell_type": "code",
   "execution_count": 73,
   "id": "6cb9c536-8d44-48e9-bbef-e95097d9148b",
   "metadata": {},
   "outputs": [
    {
     "data": {
      "text/plain": [
       "(array([1., 1., 1., 1., 1., 1., 1., 1., 1., 1.]),\n",
       " array([0., 0., 0., 0., 0., 0., 0., 0., 0., 0.]))"
      ]
     },
     "execution_count": 73,
     "metadata": {},
     "output_type": "execute_result"
    }
   ],
   "source": [
    "np.ones(10),np.zeros(10)\n",
    "## np.ones and np.zeros takes shape and create nd array of given shape"
   ]
  },
  {
   "cell_type": "markdown",
   "id": "88c033f0-34f2-4726-9638-abdab462eaf4",
   "metadata": {},
   "source": [
    "# Manipulating ndarray\n",
    "Now we will start manipulating ndarray through different operations ."
   ]
  },
  {
   "cell_type": "markdown",
   "id": "2fe782cb-32cf-44cf-b97e-f65a8074a9bc",
   "metadata": {},
   "source": [
    "#### We will start with some basics like   `np.shape` and `np.dtype` to get to know the shape and dtype of array"
   ]
  },
  {
   "cell_type": "code",
   "execution_count": 54,
   "id": "922d93c1-fa4b-4eab-9cdb-b53824e5c018",
   "metadata": {},
   "outputs": [
    {
     "data": {
      "text/plain": [
       "((3, 3), dtype('int64'))"
      ]
     },
     "execution_count": 54,
     "metadata": {},
     "output_type": "execute_result"
    }
   ],
   "source": [
    "ar.shape ,ar.dtype"
   ]
  },
  {
   "cell_type": "markdown",
   "id": "b8aaa47a-e34c-43a1-b286-252aa53fa3c6",
   "metadata": {},
   "source": [
    "Since we are covering topics from the book simultaneously there is a magic method discussed which is `%time`"
   ]
  },
  {
   "cell_type": "code",
   "execution_count": 59,
   "id": "82f4ea7b-d804-40ae-817a-d19a41288beb",
   "metadata": {},
   "outputs": [
    {
     "name": "stdout",
     "output_type": "stream",
     "text": [
      "CPU times: total: 0 ns\n",
      "Wall time: 0 ns\n"
     ]
    },
    {
     "data": {
      "text/plain": [
       "(3, 3)"
      ]
     },
     "execution_count": 59,
     "metadata": {},
     "output_type": "execute_result"
    }
   ],
   "source": [
    "%time\n",
    "ar.shape\n"
   ]
  },
  {
   "cell_type": "markdown",
   "id": "5efb188d-547a-40c5-b0db-fbf055f1263c",
   "metadata": {},
   "source": [
    "`%time ` is used to tell the time of the operation"
   ]
  },
  {
   "cell_type": "code",
   "execution_count": 66,
   "id": "861e7291-cf8e-4616-8c7a-358feb1bfc47",
   "metadata": {},
   "outputs": [
    {
     "name": "stdout",
     "output_type": "stream",
     "text": [
      "15.7 ns ± 0.308 ns per loop (mean ± std. dev. of 7 runs, 100,000,000 loops each)\n"
     ]
    }
   ],
   "source": [
    "%timeit ar\n"
   ]
  },
  {
   "cell_type": "markdown",
   "id": "3aa90828-7012-444e-b538-1227cd377ce6",
   "metadata": {},
   "source": [
    "`%timeit` is used to  automatically determines the execution time of the following one-line Python statement \n"
   ]
  },
  {
   "cell_type": "code",
   "execution_count": 83,
   "id": "5609eb60-527e-4662-8697-81868459ff62",
   "metadata": {},
   "outputs": [
    {
     "name": "stdout",
     "output_type": "stream",
     "text": [
      "float32\n",
      "float32\n"
     ]
    },
    {
     "data": {
      "text/plain": [
       "array([[1., 4., 7.],\n",
       "       [2., 5., 8.],\n",
       "       [3., 6., 9.]], dtype=float32)"
      ]
     },
     "execution_count": 83,
     "metadata": {},
     "output_type": "execute_result"
    }
   ],
   "source": [
    "print(ar.dtype)\n",
    "ar=ar.astype(np.float32,)\n",
    "print(ar.dtype)\n",
    "ar"
   ]
  },
  {
   "cell_type": "markdown",
   "id": "49d43918-551a-4d48-97bf-786364c4c338",
   "metadata": {},
   "source": [
    "#### The array.astype() changes dtype of the array"
   ]
  },
  {
   "cell_type": "markdown",
   "id": "311c0696-99ab-47d7-bdd0-84f49b683632",
   "metadata": {},
   "source": [
    "### Arithmetic With ndarray (Vectorization)\n",
    "\n"
   ]
  },
  {
   "cell_type": "code",
   "execution_count": 103,
   "id": "ddd39294-95b1-4612-b19e-b7fc6e192420",
   "metadata": {},
   "outputs": [
    {
     "name": "stdout",
     "output_type": "stream",
     "text": [
      " arrays : [0 0 0 1 1 1 2 2 2 3 3 3 4 4 4 5 5 5 6 6 6 7 7 7 8 8 8 9 9 9] ,[0 0 0 0 0 0 0 0 0 1 1 1 1 1 1 1 1 1 2 2 2 2 2 2 2 2 2 3 3 3] \n",
      " Addition : [ 0  0  0  1  1  1  2  2  2  4  4  4  5  5  5  6  6  6  8  8  8  9  9  9\n",
      " 10 10 10 12 12 12] \n",
      " Subtraction : [0 0 0 1 1 1 2 2 2 2 2 2 3 3 3 4 4 4 4 4 4 5 5 5 6 6 6 6 6 6] \n",
      " Multiplication : [ 0  0  0  0  0  0  0  0  0  3  3  3  4  4  4  5  5  5 12 12 12 14 14 14\n",
      " 16 16 16 27 27 27] \n",
      " divide : [nan nan nan inf inf inf inf inf inf 3.  3.  3.  4.  4.  4.  5.  5.  5.\n",
      " 3.  3.  3.  3.5 3.5 3.5 4.  4.  4.  3.  3.  3. ] \n",
      " pow :[  1   1   1   1   1   1   1   1   1   3   3   3   4   4   4   5   5   5\n",
      "  36  36  36  49  49  49  64  64  64 729 729 729] \n",
      "\n"
     ]
    },
    {
     "name": "stderr",
     "output_type": "stream",
     "text": [
      "C:\\Users\\Dixit\\AppData\\Local\\Temp\\ipykernel_11844\\400229439.py:6: RuntimeWarning: divide by zero encountered in divide\n",
      "  div=ar/ar2\n",
      "C:\\Users\\Dixit\\AppData\\Local\\Temp\\ipykernel_11844\\400229439.py:6: RuntimeWarning: invalid value encountered in divide\n",
      "  div=ar/ar2\n"
     ]
    }
   ],
   "source": [
    "ar=np.array([i//3 for i in range (0,30)])\n",
    "ar2=np.array([i//9 for i in range(0,30)])\n",
    "add=ar+ar2\n",
    "sub=ar-ar2\n",
    "mul=ar*ar2\n",
    "div=ar/ar2\n",
    "power=ar**ar2\n",
    "print(f\" arrays : {ar} ,{ar2} \\n Addition : {add} \\n Subtraction : {sub} \\n Multiplication : {mul} \\n divide : {div} \\n pow :{power} \\n\")\n",
    "\n",
    "\n"
   ]
  },
  {
   "cell_type": "markdown",
   "id": "e26540ca-4fc1-4134-937a-d9574043fd84",
   "metadata": {},
   "source": [
    "## Slicing and Indexing\n",
    "### Slicing\n",
    "1. Slicing 1d array\n",
    "2. Slicing 2d array\n",
    "3. Slicing 3d array\n",
    "--- \n",
    "### Indexing\n",
    "1. Indexing 1d array\n",
    "2. Indexing 2d array\n",
    "3. Indexing 3d array\n",
    "\n",
    "So now ,Lets start with Slicing\n",
    "then we will focus on Indexing.\n"
   ]
  },
  {
   "cell_type": "code",
   "execution_count": 108,
   "id": "f33701c8-53b8-4bd8-87a6-3f14fccf222b",
   "metadata": {},
   "outputs": [
    {
     "data": {
      "text/plain": [
       "array([1, 2, 3, 4, 5, 6])"
      ]
     },
     "execution_count": 108,
     "metadata": {},
     "output_type": "execute_result"
    }
   ],
   "source": [
    "# 1d array\n",
    "ar=np.array(l1)\n",
    "ar"
   ]
  },
  {
   "cell_type": "code",
   "execution_count": 118,
   "id": "33754c55-889f-430d-96cd-2d749246f486",
   "metadata": {},
   "outputs": [
    {
     "name": "stdout",
     "output_type": "stream",
     "text": [
      "[1 2 3 4 5]\n",
      "[2 3 4 5]\n",
      "[2 3 4 5 6]\n",
      "[1 2 3]\n"
     ]
    }
   ],
   "source": [
    "# Slicing 1d array\n",
    "print(ar[:5])\n",
    "print(ar[1:5])\n",
    "print(ar[1:])\n",
    "print(ar[:3])"
   ]
  },
  {
   "cell_type": "code",
   "execution_count": 138,
   "id": "a092f08c-80ae-4f1e-821c-0153dd8c4e3b",
   "metadata": {},
   "outputs": [
    {
     "name": "stdout",
     "output_type": "stream",
     "text": [
      "[[1]\n",
      " [7]\n",
      " [4]]\n",
      "[[1 2 3]]\n",
      "[[4 5 6]]\n",
      "[[1 2]\n",
      " [7 8]\n",
      " [4 5]]\n",
      "[4 5]\n"
     ]
    }
   ],
   "source": [
    "# 2d array\n",
    "ar=np.array([[1,2,3],[7,8,9],[4,5,6]])\n",
    "print(ar[:3,:1])\n",
    "print(ar[:1])\n",
    "print(ar[2:])\n",
    "print(ar[:,:2])\n",
    "print(ar[2,:2])\n"
   ]
  },
  {
   "cell_type": "code",
   "execution_count": 144,
   "id": "b1f7da01-6746-4e05-99ba-7f2f931f6b79",
   "metadata": {},
   "outputs": [
    {
     "name": "stdout",
     "output_type": "stream",
     "text": [
      "[[[4 5 6]]\n",
      "\n",
      " [[5 5 5]]]\n",
      "[[[4 5 6]\n",
      "  [1 2 3]]]\n",
      "[[[5 5 5]\n",
      "  [6 7 8]]]\n",
      "[[[4 5 6]]\n",
      "\n",
      " [[5 5 5]]]\n",
      "[[5 5 5]]\n"
     ]
    }
   ],
   "source": [
    "#3d array\n",
    "ar=np.array([[[4,5,6],[1,2,3]],[[5,5,5],[6,7,8]]])\n",
    "print(ar[:3,:1])\n",
    "print(ar[:1])\n",
    "print(ar[1:])\n",
    "print(ar[:,:1])\n",
    "print(ar[1,:1])"
   ]
  },
  {
   "cell_type": "markdown",
   "id": "1fcc1686-0883-48d8-931a-65aa5abe7c90",
   "metadata": {},
   "source": [
    "## Indexing\n"
   ]
  },
  {
   "cell_type": "code",
   "execution_count": 147,
   "id": "9bedf9ac-25e0-4b0a-a868-42c20996f8ed",
   "metadata": {},
   "outputs": [
    {
     "data": {
      "text/plain": [
       "array([1, 2, 3, 4, 5, 6])"
      ]
     },
     "execution_count": 147,
     "metadata": {},
     "output_type": "execute_result"
    }
   ],
   "source": [
    "# 1d array\n",
    "ar=np.array(l1)\n",
    "ar"
   ]
  },
  {
   "cell_type": "code",
   "execution_count": 149,
   "id": "1f54a27e-9e70-43c2-a2c4-4638e7eaaf9f",
   "metadata": {},
   "outputs": [
    {
     "data": {
      "text/plain": [
       "(2, 4, 6)"
      ]
     },
     "execution_count": 149,
     "metadata": {},
     "output_type": "execute_result"
    }
   ],
   "source": [
    "ar[1],ar[3],ar[5]"
   ]
  },
  {
   "cell_type": "code",
   "execution_count": 151,
   "id": "d56a87dc-a903-417a-8eb6-a4fc62e1bf21",
   "metadata": {},
   "outputs": [
    {
     "data": {
      "text/plain": [
       "array([[1, 2, 3],\n",
       "       [7, 8, 9],\n",
       "       [4, 5, 6]])"
      ]
     },
     "execution_count": 151,
     "metadata": {},
     "output_type": "execute_result"
    }
   ],
   "source": [
    "ar=np.array([[1,2,3],[7,8,9],[4,5,6]])\n",
    "ar"
   ]
  },
  {
   "cell_type": "code",
   "execution_count": 155,
   "id": "0075efd0-e099-4170-902d-97870c95f71d",
   "metadata": {},
   "outputs": [
    {
     "data": {
      "text/plain": [
       "5"
      ]
     },
     "execution_count": 155,
     "metadata": {},
     "output_type": "execute_result"
    }
   ],
   "source": [
    "ar[2][1]"
   ]
  },
  {
   "cell_type": "code",
   "execution_count": 157,
   "id": "0fd63006-19e8-4ccf-8192-c30bed0082ea",
   "metadata": {},
   "outputs": [
    {
     "data": {
      "text/plain": [
       "9"
      ]
     },
     "execution_count": 157,
     "metadata": {},
     "output_type": "execute_result"
    }
   ],
   "source": [
    "ar[1,2]"
   ]
  },
  {
   "cell_type": "code",
   "execution_count": 159,
   "id": "b4080a61-0ea1-43fd-b4b9-59321ca122cb",
   "metadata": {},
   "outputs": [
    {
     "data": {
      "text/plain": [
       "7"
      ]
     },
     "execution_count": 159,
     "metadata": {},
     "output_type": "execute_result"
    }
   ],
   "source": [
    "#3d array\n",
    "ar=np.array([[[4,5,6],[1,2,3]],[[5,5,5],[6,7,8]]])\n",
    "ar[1][1][1]"
   ]
  },
  {
   "cell_type": "code",
   "execution_count": 163,
   "id": "3b5bc946-5545-4045-95fb-bcba1bcfee61",
   "metadata": {},
   "outputs": [
    {
     "data": {
      "text/plain": [
       "2"
      ]
     },
     "execution_count": 163,
     "metadata": {},
     "output_type": "execute_result"
    }
   ],
   "source": [
    "ar[0,1,1]"
   ]
  },
  {
   "cell_type": "markdown",
   "id": "e18c7688-8bae-49ee-a4b0-344a51197284",
   "metadata": {},
   "source": [
    "Now lets focus on different type of indexing known as **Boolean Indexing** "
   ]
  },
  {
   "cell_type": "code",
   "execution_count": 166,
   "id": "bd0a202d-3191-4d80-8b1b-233e67ccefd1",
   "metadata": {},
   "outputs": [
    {
     "data": {
      "text/plain": [
       "array([5, 5, 5, 5])"
      ]
     },
     "execution_count": 166,
     "metadata": {},
     "output_type": "execute_result"
    }
   ],
   "source": [
    "ar[ar==5]"
   ]
  },
  {
   "cell_type": "code",
   "execution_count": 168,
   "id": "7b45bff3-d3a6-4c7e-93a3-cbacc69fa4d8",
   "metadata": {},
   "outputs": [
    {
     "data": {
      "text/plain": [
       "array([6, 6, 7, 8])"
      ]
     },
     "execution_count": 168,
     "metadata": {},
     "output_type": "execute_result"
    }
   ],
   "source": [
    "ar[ar>5]"
   ]
  },
  {
   "cell_type": "markdown",
   "id": "b6683096-0fe4-4a8e-ae96-6fef0259f49f",
   "metadata": {},
   "source": [
    "So we can write boolean expression inside array to perform indexing the ndarray will adjust accordingly and give results"
   ]
  },
  {
   "cell_type": "markdown",
   "id": "5b45acb4-dbad-4df7-8ce5-e8410f06e67f",
   "metadata": {},
   "source": [
    "## Transposind and reshaping array\n",
    "1. Transpose\n",
    "2. Reshape\n",
    "3. swap axes\n",
    "   "
   ]
  },
  {
   "cell_type": "code",
   "execution_count": 173,
   "id": "e59e5055-446a-430a-ac91-ea5990f76317",
   "metadata": {},
   "outputs": [
    {
     "data": {
      "text/plain": [
       "array([[[4, 5],\n",
       "        [1, 6]],\n",
       "\n",
       "       [[5, 5],\n",
       "        [2, 7]],\n",
       "\n",
       "       [[6, 5],\n",
       "        [3, 8]]])"
      ]
     },
     "execution_count": 173,
     "metadata": {},
     "output_type": "execute_result"
    }
   ],
   "source": [
    "ar.T"
   ]
  },
  {
   "cell_type": "code",
   "execution_count": 185,
   "id": "fd384b81-4d56-4318-a778-16dd3ca6820e",
   "metadata": {},
   "outputs": [
    {
     "data": {
      "text/plain": [
       "array([[[4, 5, 6],\n",
       "        [5, 5, 5]],\n",
       "\n",
       "       [[1, 2, 3],\n",
       "        [6, 7, 8]]])"
      ]
     },
     "execution_count": 185,
     "metadata": {},
     "output_type": "execute_result"
    }
   ],
   "source": [
    "ar.swapaxes(0,1)"
   ]
  },
  {
   "cell_type": "code",
   "execution_count": 189,
   "id": "aef0014e-62d1-4024-945d-3691c8a2f70e",
   "metadata": {},
   "outputs": [
    {
     "data": {
      "text/plain": [
       "array([[4, 5],\n",
       "       [6, 1],\n",
       "       [2, 3],\n",
       "       [5, 5],\n",
       "       [5, 6],\n",
       "       [7, 8]])"
      ]
     },
     "execution_count": 189,
     "metadata": {},
     "output_type": "execute_result"
    }
   ],
   "source": [
    "ar.reshape(6,2)"
   ]
  },
  {
   "cell_type": "markdown",
   "id": "2c90b46d-3f4f-4e73-bc79-3539bec380bc",
   "metadata": {},
   "source": [
    "## Using Numpy package functions and modules to perform calculations\n"
   ]
  },
  {
   "cell_type": "code",
   "execution_count": 196,
   "id": "5b65ee4c-9559-47ae-a0c4-036d6cb39661",
   "metadata": {},
   "outputs": [
    {
     "name": "stdout",
     "output_type": "stream",
     "text": [
      "4.75 1.920286436967152 3.6875\n"
     ]
    }
   ],
   "source": [
    "print(ar.mean(),\n",
    "ar.std()\n",
    ",ar.var())"
   ]
  },
  {
   "cell_type": "markdown",
   "id": "735adc9b-7c18-4576-aa66-2b01fe8dc3af",
   "metadata": {},
   "source": [
    "There are other statistical operation that we can perform on numpy array\n"
   ]
  },
  {
   "cell_type": "markdown",
   "id": "97f7cc43-9d4b-411e-acc8-58cbfbb644bf",
   "metadata": {},
   "source": [
    "There are many packages in numpy to perform operations one of them is `np.linalg` that can be used to perform linear algebra operations"
   ]
  },
  {
   "cell_type": "code",
   "execution_count": 202,
   "id": "2627a84b-cabb-4ffe-83cf-bcff36f35666",
   "metadata": {},
   "outputs": [
    {
     "data": {
      "text/plain": [
       "17.74823934929885"
      ]
     },
     "execution_count": 202,
     "metadata": {},
     "output_type": "execute_result"
    }
   ],
   "source": [
    "np.linalg.norm(ar)"
   ]
  },
  {
   "cell_type": "markdown",
   "id": "fdcb696d-197e-4714-b44f-46bddad08277",
   "metadata": {},
   "source": [
    "So we conclude our discussion on numpy array .\n"
   ]
  },
  {
   "cell_type": "code",
   "execution_count": null,
   "id": "c487b98d-6a36-4947-b320-3201317780c7",
   "metadata": {},
   "outputs": [],
   "source": []
  }
 ],
 "metadata": {
  "kernelspec": {
   "display_name": "Python 3 (ipykernel)",
   "language": "python",
   "name": "python3"
  },
  "language_info": {
   "codemirror_mode": {
    "name": "ipython",
    "version": 3
   },
   "file_extension": ".py",
   "mimetype": "text/x-python",
   "name": "python",
   "nbconvert_exporter": "python",
   "pygments_lexer": "ipython3",
   "version": "3.12.3"
  }
 },
 "nbformat": 4,
 "nbformat_minor": 5
}
